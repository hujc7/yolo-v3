{
 "cells": [
  {
   "cell_type": "code",
   "execution_count": 1,
   "metadata": {},
   "outputs": [
    {
     "name": "stdout",
     "output_type": "stream",
     "text": [
      "True\n",
      "---------------------------------------------------------Result---------------------------------------------------------\n"
     ]
    }
   ],
   "source": [
    "import sys\n",
    "sys.path.append(\"..\")\n",
    "import argparse\n",
    "import torch\n",
    "from darknet import DarkNet\n",
    "from img_loader import IMGProcess\n",
    "# args = parser.parse_args()\n",
    "images = '../imgs/'\n",
    "result = '../results/'\n",
    "img_size=416\n",
    "batch_size = 1\n",
    "confidence = 0.5\n",
    "nms_thresh = 0.4\n",
    "weights = '../weights/yolo.v3.coco.weights.pt'\n",
    "no_cuda = False\n",
    "\n",
    "use_cuda = torch.cuda.is_available() and not no_cuda\n",
    "print(use_cuda)\n",
    "model = DarkNet(use_cuda)\n",
    "model_source = torch.load(weights)\n",
    "model.load_state_dict(model_source['model'])\n",
    "model.eval()\n",
    "if use_cuda:\n",
    "    model = model.cuda()\n",
    "\n",
    "ip = IMGProcess(model_source,\n",
    "                use_cuda=use_cuda,\n",
    "                img_path=images,\n",
    "                img_size=img_size,\n",
    "                confidence=confidence,\n",
    "                result=result)\n",
    "\n",
    "print(\"-\" * 57 + \"Result\" + \"-\" * 57)\n",
    "# for batch in ip:\n",
    "#     outputs = ip.predict(model(batch), nms_conf=nms_thresh)\n",
    "#     for name, objs in outputs:\n",
    "#         print(\"Image - {}\".format(name))\n",
    "#         print(\"Detect Objects - [{}]\".format(\", \".join(objs)))\n",
    "#         print(\"-\" * 120)"
   ]
  },
  {
   "cell_type": "code",
   "execution_count": 2,
   "metadata": {},
   "outputs": [
    {
     "name": "stdout",
     "output_type": "stream",
     "text": [
      "Image - girl.jpeg\n",
      "Detect Objects - [person, person, skateboard, skateboard]\n",
      "------------------------------------------------------------------------------------------------------------------------\n",
      "Image - man.jpeg\n",
      "Detect Objects - [person, person, person, person, person, person, backpack, backpack, handbag, handbag, handbag]\n",
      "------------------------------------------------------------------------------------------------------------------------\n",
      "Image - metro.png\n",
      "Detect Objects - [train, train]\n",
      "------------------------------------------------------------------------------------------------------------------------\n",
      "Image - metro2.png\n",
      "Detect Objects - [train]\n",
      "------------------------------------------------------------------------------------------------------------------------\n",
      "Image - one.jpg\n",
      "Detect Objects - [person, person, person, person, person]\n",
      "------------------------------------------------------------------------------------------------------------------------\n",
      "Image - people.jpeg\n",
      "Detect Objects - [person, person, person, person, person, person, person, person, person, person, person, person]\n",
      "------------------------------------------------------------------------------------------------------------------------\n",
      "Image - python.jpeg\n",
      "Detect Objects - [dog, dog]\n",
      "------------------------------------------------------------------------------------------------------------------------\n"
     ]
    }
   ],
   "source": [
    "itt = iter(ip)\n",
    "imgg = next(itt)\n",
    "outputs = ip.predict(model(imgg), nms_conf=nms_thresh)\n",
    "for name, objs in outputs:\n",
    "    print(\"Image - {}\".format(name))\n",
    "    print(\"Detect Objects - [{}]\".format(\", \".join(objs)))\n",
    "    print(\"-\" * 120)"
   ]
  },
  {
   "cell_type": "code",
   "execution_count": 2,
   "metadata": {},
   "outputs": [],
   "source": [
    "itt = iter(ip)\n",
    "imgg = next(itt)\n",
    "tmp = model(imgg)"
   ]
  },
  {
   "cell_type": "code",
   "execution_count": 3,
   "metadata": {},
   "outputs": [
    {
     "name": "stdout",
     "output_type": "stream",
     "text": [
      "torch.Size([7, 3, 416, 416])\n",
      "torch.Size([7, 10647, 85])\n"
     ]
    }
   ],
   "source": [
    "print(imgg.shape)\n",
    "print(tmp.shape)"
   ]
  },
  {
   "cell_type": "code",
   "execution_count": 7,
   "metadata": {},
   "outputs": [
    {
     "name": "stdout",
     "output_type": "stream",
     "text": [
      "dict_keys(['model', 'classes', 'num_classes', 'pallete'])\n",
      "80\n",
      "[(39, 129, 113), (164, 80, 133), (83, 122, 114), (99, 81, 172), (95, 56, 104), (37, 84, 86), (14, 89, 122), (80, 7, 65), (10, 102, 25), (90, 185, 109), (106, 110, 132), (169, 158, 85), (188, 185, 26), (103, 1, 17), (82, 144, 81), (92, 7, 184), (49, 81, 155), (179, 177, 69), (93, 187, 158), (13, 39, 73), (12, 50, 60), (16, 179, 33), (112, 69, 165), (15, 139, 63), (33, 191, 159), (182, 173, 32), (34, 113, 133), (90, 135, 34), (53, 34, 86), (141, 35, 190), (6, 171, 8), (118, 76, 112), (89, 60, 55), (15, 54, 88), (112, 75, 181), (42, 147, 38), (138, 52, 63), (128, 65, 149), (106, 103, 24), (168, 33, 45), (28, 136, 135), (86, 91, 108), (52, 11, 76), (142, 6, 189), (57, 81, 168), (55, 19, 148), (182, 101, 89), (44, 65, 179), (1, 33, 26), (122, 164, 26), (70, 63, 134), (137, 106, 82), (120, 118, 52), (129, 74, 42), (182, 147, 112), (22, 157, 50), (56, 50, 20), (2, 22, 177), (156, 100, 106), (21, 35, 42), (13, 8, 121), (142, 92, 28), (45, 118, 33), (105, 118, 30), (7, 185, 124), (46, 34, 146), (105, 184, 169), (22, 18, 5), (147, 71, 73), (181, 64, 91), (31, 39, 184), (164, 179, 33), (96, 50, 18), (95, 15, 106), (113, 68, 54), (136, 116, 112), (119, 139, 130), (31, 139, 34), (66, 6, 127), (62, 39, 2), (49, 99, 180), (49, 119, 155), (153, 50, 183), (125, 38, 3), (129, 87, 143), (49, 87, 40), (128, 62, 120), (73, 85, 148), (28, 144, 118), (29, 9, 24), (175, 45, 108), (81, 175, 64), (178, 19, 157), (74, 188, 190), (18, 114, 2), (62, 128, 96), (21, 3, 150), (0, 6, 95), (2, 20, 184), (122, 37, 185)]\n"
     ]
    }
   ],
   "source": [
    "print(model_source.keys())\n",
    "# print(model_source['model'])\n",
    "print(model_source['num_classes'])\n",
    "print(model_source['pallete'])"
   ]
  }
 ],
 "metadata": {
  "kernelspec": {
   "display_name": "Python [conda env:pytorch]",
   "language": "python",
   "name": "conda-env-pytorch-py"
  },
  "language_info": {
   "codemirror_mode": {
    "name": "ipython",
    "version": 3
   },
   "file_extension": ".py",
   "mimetype": "text/x-python",
   "name": "python",
   "nbconvert_exporter": "python",
   "pygments_lexer": "ipython3",
   "version": "3.7.0"
  }
 },
 "nbformat": 4,
 "nbformat_minor": 2
}
